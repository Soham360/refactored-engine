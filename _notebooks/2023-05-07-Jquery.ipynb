{
 "cells": [
  {
   "cell_type": "markdown",
   "metadata": {},
   "source": [
    "---\n",
    "toc: true\n",
    "comments: true\n",
    "layout: notebook\n",
    "title: Jquery Lesson\n",
    "courses: { csp: {week: 1} }\n",
    "type: hacks\n",
    "---"
   ]
  },
  {
   "cell_type": "markdown",
   "metadata": {},
   "source": [
    "## What is jquery? - Orlando\n",
    "\n",
    "## When should you use jquery overview? - Orlando\n",
    "\n",
    "## Basic syntax and how to use it (finding elements, crating elements and changing elements) - Orlando\n",
    "\n",
    "## Methods with Jquery/Event handling - Orlando\n",
    "\n",
    "## Making requests with jquery ajax + promises - Colin\n",
    "\n",
    "## Jquery example connecting it to a get api and building html with the data - Colin\n",
    "\n",
    "## Animations with jquery - Colin\n"
   ]
  },
  {
   "cell_type": "markdown",
   "metadata": {},
   "source": [
    "### Making requests with AJAX\n",
    "\n",
    "**AJAX** stands for Asynchronous JavaScript and XML. It allows web pages to be updated asynchronously in a easier way and is promise based. A **Promise** in JavaScript represents the eventual completion (or failure) of an asynchronous request.\n"
   ]
  },
  {
   "cell_type": "markdown",
   "metadata": {},
   "source": [
    "### Why use jQuery AJAX over a normal async request or AJAX request?\n",
    "\n",
    "Against a normal async request AJAX has a lot of advantages:\n",
    "\n",
    "1. **Easier Error Handling**: Promises are much easier to deal with than callbacks. If an error occurs in a promise, it will be passed down to the next `catch()` clause.\n",
    "\n",
    "2. **Simpler API Chaining**: If you want to wait for one operation to finish before starting another one you can simply use `.then()`.\n",
    "\n",
    "#### Normal async request"
   ]
  },
  {
   "cell_type": "code",
   "execution_count": null,
   "metadata": {
    "vscode": {
     "languageId": "javascript"
    }
   },
   "outputs": [],
   "source": [
    "getUserLocation(function(error, location) {\n",
    "    if (error) {\n",
    "        console.error('Error:', error);\n",
    "    } else {\n",
    "        getForecast(location, function(error, forecast) {\n",
    "            if (error) {\n",
    "                console.error('Error:', error);\n",
    "            } else {\n",
    "                console.log('Forecast:', forecast);\n",
    "            }\n",
    "        });\n",
    "    }\n",
    "});"
   ]
  },
  {
   "cell_type": "markdown",
   "metadata": {},
   "source": [
    "#### Ajax requests without any library"
   ]
  },
  {
   "cell_type": "code",
   "execution_count": null,
   "metadata": {
    "vscode": {
     "languageId": "javascript"
    }
   },
   "outputs": [],
   "source": [
    "fetch('api/location')\n",
    ".then(response => response.json())\n",
    ".then(location => fetch('api/forecast/' + location))\n",
    ".then(response => response.json())\n",
    ".then(forecast => {\n",
    "    console.log('Forecast:', forecast);\n",
    "})\n",
    ".catch(error => {\n",
    "    console.error('Error:', error);\n",
    "});\n"
   ]
  },
  {
   "cell_type": "markdown",
   "metadata": {},
   "source": [
    "#### Ajax Requests with JQuery"
   ]
  },
  {
   "cell_type": "code",
   "execution_count": null,
   "metadata": {
    "vscode": {
     "languageId": "javascript"
    }
   },
   "outputs": [],
   "source": [
    "$.ajax({ url: 'api/location', method: 'GET', dataType: 'json' })\n",
    ".then(function(location) {\n",
    "    return $.ajax({ url: 'api/forecast/' + location, method: 'GET', dataType: 'json' });\n",
    "})\n",
    ".then(function(forecast) {\n",
    "    console.log('Forecast:', forecast);\n",
    "})\n",
    ".catch(function(error) {\n",
    "    console.error('Error:', error);\n",
    "});\n"
   ]
  },
  {
   "cell_type": "markdown",
   "metadata": {},
   "source": [
    "You can see using ajax is much easier to read than callback system. However when it comes to using jquery ajax vs javascript's version there are less differences. It is up to you which syntax you like more.\n",
    "\n",
    "Jquery ajax also builds on top of the old javascript version so it can support older browser versions."
   ]
  },
  {
   "cell_type": "markdown",
   "metadata": {},
   "source": [
    "## Jquery's use with PBL"
   ]
  },
  {
   "cell_type": "markdown",
   "metadata": {},
   "source": [
    "### Building elements using data from the backend\n",
    "\n",
    "Jquery's most important use is making you site dynamic and update from user input. The most important part of this for our projects is usually taking the data from the backend and building html from it.\n",
    "\n"
   ]
  }
 ],
 "metadata": {
  "language_info": {
   "name": "python"
  }
 },
 "nbformat": 4,
 "nbformat_minor": 2
}
