{
 "cells": [
  {
   "cell_type": "markdown",
   "metadata": {},
   "source": [
    "---\n",
    "toc: true\n",
    "comments: true\n",
    "layout: notebook\n",
    "title: Jquery Lesson\n",
    "courses: { csp: {week: 1} }\n",
    "type: hacks\n",
    "---"
   ]
  },
  {
   "cell_type": "markdown",
   "metadata": {},
   "source": [
    "## What is jquery? - Orlando\n",
    "\n",
    "## When should you use jquery overview? - Orlando\n",
    "\n",
    "## Basic syntax and how to use it (finding elements, crating elements and changing elements) - Orlando\n",
    "\n",
    "## Methods with Jquery/Event handling - Orlando\n",
    "\n",
    "## Making requests with jquery ajax + promises - Colin\n",
    "\n",
    "## Jquery example connecting it to a get api and building html with the data - Colin\n",
    "\n",
    "## Animations with jquery - Colin\n"
   ]
  }
 ],
 "metadata": {
  "language_info": {
   "name": "python"
  }
 },
 "nbformat": 4,
 "nbformat_minor": 2
}
