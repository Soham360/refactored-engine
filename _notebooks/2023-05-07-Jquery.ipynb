{
 "cells": [
  {
   "cell_type": "markdown",
   "metadata": {},
   "source": [
    "---\n",
    "toc: true\n",
    "comments: true\n",
    "layout: notebook\n",
    "title: Jquery Lesson\n",
    "courses: { csp: {week: 1} }\n",
    "type: hacks\n",
    "---"
   ]
  },
  {
   "cell_type": "markdown",
   "metadata": {},
   "source": [
    "## What is jquery? - Orlando\n",
    "\n",
    "## When should you use jquery overview? - Orlando\n",
    "\n",
    "## Basic syntax and how to use it (finding elements, crating elements and changing elements) - Orlando\n",
    "\n",
    "## Methods with Jquery/Event handling - Orlando\n",
    "\n",
    "## Making requests with jquery ajax + promises - Colin\n",
    "\n",
    "## Jquery example connecting it to a get api and building html with the data - Colin\n",
    "\n",
    "## Animations with jquery - Colin\n"
   ]
  },
  {
   "cell_type": "markdown",
   "metadata": {},
   "source": [
    "### Making requests with AJAX\n",
    "\n",
    "**AJAX** stands for Asynchronous JavaScript and XML. It allows web pages to be updated asynchronously in a easier way and is promise based. A **Promise** in JavaScript represents the eventual completion (or failure) of an asynchronous request.\n"
   ]
  },
  {
   "cell_type": "markdown",
   "metadata": {},
   "source": [
    "### Why use jQuery AJAX over a normal async request or AJAX request?\n",
    "\n",
    "Against a normal async request AJAX has a lot of advantages:\n",
    "\n",
    "1. **Easier Error Handling**: Promises are much easier to deal with than callbacks. If an error occurs in a promise, it will be passed down to the next `catch()` clause.\n",
    "\n",
    "2. **Simpler API Chaining**: If you want to wait for one operation to finish before starting another one you can simply use `.then()`.\n",
    "\n",
    "#### Normal async request"
   ]
  },
  {
   "cell_type": "code",
   "execution_count": null,
   "metadata": {
    "vscode": {
     "languageId": "javascript"
    }
   },
   "outputs": [],
   "source": [
    "getUserLocation(function(error, location) {\n",
    "    if (error) {\n",
    "        console.error('Error:', error);\n",
    "    } else {\n",
    "        getForecast(location, function(error, forecast) {\n",
    "            if (error) {\n",
    "                console.error('Error:', error);\n",
    "            } else {\n",
    "                console.log('Forecast:', forecast);\n",
    "            }\n",
    "        });\n",
    "    }\n",
    "});"
   ]
  },
  {
   "cell_type": "markdown",
   "metadata": {},
   "source": [
    "#### Ajax requests without any library"
   ]
  },
  {
   "cell_type": "code",
   "execution_count": null,
   "metadata": {
    "vscode": {
     "languageId": "javascript"
    }
   },
   "outputs": [],
   "source": [
    "fetch('api/location')\n",
    ".then(response => response.json())\n",
    ".then(location => fetch('api/forecast/' + location))\n",
    ".then(response => response.json())\n",
    ".then(forecast => {\n",
    "    console.log('Forecast:', forecast);\n",
    "})\n",
    ".catch(error => {\n",
    "    console.error('Error:', error);\n",
    "});\n"
   ]
  },
  {
   "cell_type": "markdown",
   "metadata": {},
   "source": [
    "#### Ajax Requests with JQuery"
   ]
  },
  {
   "cell_type": "code",
   "execution_count": 8,
   "metadata": {
    "vscode": {
     "languageId": "javascript"
    }
   },
   "outputs": [
    {
     "data": {
      "application/javascript": "require.config({\n    paths: {\n        jquery: 'https://ajax.googleapis.com/ajax/libs/jquery/3.3.1/jquery.min'\n    }\n});\n\nrequire(['jquery'], function($) {\n    $.ajax({ url: 'api/location', method: 'GET', dataType: 'json' })\n    .then(function(location) {\n        return $.ajax({ url: 'api/forecast/' + location, method: 'GET', dataType: 'json' });\n    })\n    .then(function(forecast) {\n        console.log('Forecast:', forecast);\n    })\n    .catch(function(error) {\n        console.error('Error:', error);\n    });\n});\n\n",
      "text/plain": [
       "<IPython.core.display.Javascript object>"
      ]
     },
     "metadata": {},
     "output_type": "display_data"
    }
   ],
   "source": [
    "\n",
    "$.ajax({ url: 'api/location', method: 'GET', dataType: 'json' })\n",
    ".then(function(location) {\n",
    "    return $.ajax({ url: 'api/forecast/' + location, method: 'GET', dataType: 'json' });\n",
    "})\n",
    ".then(function(forecast) {\n",
    "    console.log('Forecast:', forecast);\n",
    "})\n",
    ".catch(function(error) {\n",
    "    console.error('Error:', error);\n",
    "});\n"
   ]
  },
  {
   "cell_type": "markdown",
   "metadata": {},
   "source": [
    "You can see using ajax is much easier to read than callback system. However when it comes to using jquery ajax vs javascript's version there are less differences. It is up to you which syntax you like more.\n",
    "\n",
    "Jquery ajax also builds on top of the old javascript version so it can support older browser versions."
   ]
  },
  {
   "cell_type": "markdown",
   "metadata": {},
   "source": [
    "## Jquery's use with PBL"
   ]
  },
  {
   "cell_type": "markdown",
   "metadata": {},
   "source": [
    "\n",
    "Jquery's most important use is making you site dynamic and update from user input. The most important part of this for our projects is **taking the data from the backend and building html from it**.\n",
    "\n",
    "> Posts AI generated"
   ]
  },
  {
   "cell_type": "code",
   "execution_count": 5,
   "metadata": {
    "vscode": {
     "languageId": "html"
    }
   },
   "outputs": [
    {
     "data": {
      "text/html": [
       "<head>\n",
       "    <script src=\"https://ajax.googleapis.com/ajax/libs/jquery/3.5.1/jquery.min.js\"></script>\n",
       "    <style>\n",
       "        .post {\n",
       "            border: 1px solid #ddd;\n",
       "            margin-bottom: 20px;\n",
       "            padding: 20px;\n",
       "            border-radius: 5px;\n",
       "        }\n",
       "        .like-count {\n",
       "            color: #007BFF;\n",
       "        }\n",
       "    </style>\n",
       "</head>\n",
       "<body>\n",
       "\n",
       "<div id=\"posts\"></div>\n",
       "\n",
       "<script>\n",
       "// Fake API function\n",
       "function getAPI() {\n",
       "    return [\n",
       "        {id: 1, content: 'Dogs are man\\'s best friend.', likes: 10},\n",
       "        {id: 2, content: 'Dogs have an exceptional sense of smell.', likes: 20},\n",
       "        {id: 3, content: 'There are hundreds of different dog breeds.', likes: 30}\n",
       "    ];\n",
       "}\n",
       "\n",
       "$(document).ready(function(){\n",
       "    var posts = getAPI();\n",
       "    $.each(posts, function(i, post) {\n",
       "        var postHtml = '<div class=\"post\"><h2>Post ' + post.id + '</h2><p>' + post.content + '</p><p class=\"like-count\">' + post.likes + ' likes</p></div>';\n",
       "        $('#posts').append(postHtml);\n",
       "    });\n",
       "});\n",
       "</script>\n",
       "\n",
       "</body>\n",
       "</html>\n"
      ],
      "text/plain": [
       "<IPython.core.display.HTML object>"
      ]
     },
     "metadata": {},
     "output_type": "display_data"
    }
   ],
   "source": [
    "%%html\n",
    "<head>\n",
    "    <script src=\"https://ajax.googleapis.com/ajax/libs/jquery/3.5.1/jquery.min.js\"></script>\n",
    "    <style>\n",
    "        .post {\n",
    "            border: 1px solid #ddd;\n",
    "            margin-bottom: 20px;\n",
    "            padding: 20px;\n",
    "            border-radius: 5px;\n",
    "        }\n",
    "        .like-count {\n",
    "            color: #007BFF;\n",
    "        }\n",
    "    </style>\n",
    "</head>\n",
    "<body>\n",
    "\n",
    "<div id=\"posts\"></div>\n",
    "\n",
    "<script>\n",
    "// Fake API function\n",
    "function getAPI() {\n",
    "    return [\n",
    "        {id: 1, content: 'Dogs are man\\'s best friend.', likes: 10},\n",
    "        {id: 2, content: 'Dogs have an exceptional sense of smell.', likes: 20},\n",
    "        {id: 3, content: 'There are hundreds of different dog breeds.', likes: 30}\n",
    "    ];\n",
    "}\n",
    "\n",
    "$(document).ready(function(){\n",
    "    var posts = getAPI();\n",
    "    $.each(posts, function(i, post) {\n",
    "        var postHtml = '<div class=\"post\"><h2>Post ' + post.id + '</h2><p>' + post.content + '</p><p class=\"like-count\">' + post.likes + ' likes</p></div>';\n",
    "        $('#posts').append(postHtml);\n",
    "    });\n",
    "});\n",
    "</script>\n",
    "\n",
    "</body>\n",
    "</html>\n"
   ]
  },
  {
   "cell_type": "markdown",
   "metadata": {},
   "source": [
    "### Popcorn Hack: Complete the Jquery and JavaScript code\n",
    "\n",
    "This represents a website for buying dogs. The API contains an id, name, price, and breed for each dog. Display them all as html using jquery."
   ]
  },
  {
   "cell_type": "code",
   "execution_count": 11,
   "metadata": {},
   "outputs": [
    {
     "data": {
      "text/html": [
       "<html>\n",
       "<head>\n",
       "    <script src=\"https://ajax.googleapis.com/ajax/libs/jquery/3.5.1/jquery.min.js\"></script>\n",
       "    <style>\n",
       "        .dog {\n",
       "            border: 1px solid #ddd;\n",
       "            margin-bottom: 20px;\n",
       "            padding: 20px;\n",
       "            border-radius: 5px;\n",
       "        }\n",
       "        .price {\n",
       "            color: #007BFF;\n",
       "        }\n",
       "    </style>\n",
       "</head>\n",
       "<body>\n",
       "\n",
       "<div id=\"dogs\"></div>\n",
       "\n",
       "<script>\n",
       "// Fake API function\n",
       "function getAPI() {\n",
       "    return [\n",
       "        {id: 1, name: 'Max', price: '$1000', breed: 'Golden Retriever'},\n",
       "        {id: 2, name: 'Bella', price: '$800', breed: 'Labrador Retriever'},\n",
       "        {id: 3, name: 'Charlie', price: '$1200', breed: 'German Shepherd'}\n",
       "    ];\n",
       "}\n",
       "\n",
       "$(document).ready(function(){\n",
       "    var dogs = getAPI();\n",
       "    //Write code here\n",
       "});\n",
       "</script>\n",
       "\n",
       "</body>\n",
       "</html>\n"
      ],
      "text/plain": [
       "<IPython.core.display.HTML object>"
      ]
     },
     "metadata": {},
     "output_type": "display_data"
    }
   ],
   "source": [
    "%%html\n",
    "<html>\n",
    "<head>\n",
    "    <script src=\"https://ajax.googleapis.com/ajax/libs/jquery/3.5.1/jquery.min.js\"></script>\n",
    "    <style>\n",
    "        .dog {\n",
    "            border: 1px solid #ddd;\n",
    "            margin-bottom: 20px;\n",
    "            padding: 20px;\n",
    "            border-radius: 5px;\n",
    "        }\n",
    "        .price {\n",
    "            color: #007BFF;\n",
    "        }\n",
    "    </style>\n",
    "</head>\n",
    "<body>\n",
    "\n",
    "<div id=\"dogs\"></div>\n",
    "\n",
    "<script>\n",
    "// Fake API function\n",
    "function getAPI() {\n",
    "    return [\n",
    "        {id: 1, name: 'Max', price: '$1000', breed: 'Golden Retriever'},\n",
    "        {id: 2, name: 'Bella', price: '$800', breed: 'Labrador Retriever'},\n",
    "        {id: 3, name: 'Charlie', price: '$1200', breed: 'German Shepherd'}\n",
    "    ];\n",
    "}\n",
    "\n",
    "$(document).ready(function(){\n",
    "    var dogs = getAPI();\n",
    "    //Write code here\n",
    "});\n",
    "</script>\n",
    "\n",
    "</body>\n",
    "</html>\n"
   ]
  },
  {
   "cell_type": "markdown",
   "metadata": {},
   "source": [
    "## Animations with Jquery "
   ]
  },
  {
   "cell_type": "markdown",
   "metadata": {},
   "source": [
    "You can also create animations in JQuery. \n",
    "\n"
   ]
  },
  {
   "cell_type": "markdown",
   "metadata": {},
   "source": [
    "- styles: Specifies the CSS properties to animate. \n",
    "- speed: Optional and specifies the speed of the animation, by default it is 400 milliseconds.\n",
    "- easing: Optional and Specifies the animation pattern. \n",
    "  - “swing” - moves slower at the beginning/end, but faster in the middle\n",
    "  - “linear” - moves in a constant speed\n",
    "- callback: Optional, a function to be executed after the animation completes.\n",
    "  -  By default it is “swing”.\n",
    "\n",
    "> It is a little glitchy in Juypter and sometimes the green square dissapers."
   ]
  },
  {
   "cell_type": "code",
   "execution_count": 29,
   "metadata": {},
   "outputs": [
    {
     "data": {
      "text/html": [
       "<html>\n",
       "<head>\n",
       "<script src=\"https://ajax.googleapis.com/ajax/libs/jquery/3.5.1/jquery.min.js\"></script>\n",
       "<script>\n",
       "$(document).ready(function(){\n",
       "  // Reset CSS properties to their original values\n",
       "  $(\"div\").css({\n",
       "    left: '0px',\n",
       "    opacity: '1',\n",
       "    height: '100px',\n",
       "    width: '100px'\n",
       "  });\n",
       "\n",
       "  $(\"button\").click(function(){\n",
       "    $(\"div\").animate({\n",
       "      left: '250px',\n",
       "      opacity: '0.5',\n",
       "      height: '150px',\n",
       "      width: '150px'\n",
       "    });\n",
       "  });\n",
       "});\n",
       "</script>\n",
       "</head>\n",
       "<body>\n",
       "\n",
       "<button>Start</button>\n",
       "\n",
       "<div style=\"background:#98bf21;height:100px;width:100px;position:absolute;\"></div>\n",
       "\n",
       "</body>\n",
       "</html>\n"
      ],
      "text/plain": [
       "<IPython.core.display.HTML object>"
      ]
     },
     "metadata": {},
     "output_type": "display_data"
    }
   ],
   "source": [
    "%%html\n",
    "<html>\n",
    "<head>\n",
    "<script src=\"https://ajax.googleapis.com/ajax/libs/jquery/3.5.1/jquery.min.js\"></script>\n",
    "<script>\n",
    "$(document).ready(function(){\n",
    "  // Reset CSS properties to their original values\n",
    "  $(\"div\").css({\n",
    "    left: '0px',\n",
    "    opacity: '1',\n",
    "    height: '100px',\n",
    "    width: '100px'\n",
    "  });\n",
    "\n",
    "  $(\"button\").click(function(){\n",
    "    $(\"div\").animate({\n",
    "      left: '250px',\n",
    "      opacity: '0.5',\n",
    "      height: '150px',\n",
    "      width: '150px'\n",
    "    });\n",
    "  });\n",
    "});\n",
    "</script>\n",
    "</head>\n",
    "<body>\n",
    "\n",
    "<button>Start</button>\n",
    "\n",
    "<div style=\"background:#98bf21;height:100px;width:100px;position:absolute;\"></div>\n",
    "\n",
    "</body>\n",
    "</html>\n"
   ]
  }
 ],
 "metadata": {
  "kernelspec": {
   "display_name": "Python 3",
   "language": "python",
   "name": "python3"
  },
  "language_info": {
   "codemirror_mode": {
    "name": "ipython",
    "version": 3
   },
   "file_extension": ".py",
   "mimetype": "text/x-python",
   "name": "python",
   "nbconvert_exporter": "python",
   "pygments_lexer": "ipython3",
   "version": "3.11.3"
  }
 },
 "nbformat": 4,
 "nbformat_minor": 2
}
