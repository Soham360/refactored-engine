{
 "cells": [
  {
   "cell_type": "markdown",
   "metadata": {},
   "source": [
    "---\n",
    "toc: true\n",
    "comments: true\n",
    "layout: notebook\n",
    "title: jQuery Lesson\n",
    "description: Orlando and Colin jQuery lesson\n",
    "courses: { compsci: {week: 17} }\n",
    "type: hacks\n",
    "---"
   ]
  },
  {
   "cell_type": "markdown",
   "metadata": {},
   "source": [
    "### What is jQuery?\n",
    "\n",
    "**jQuery** is a lightweight, “___________________”, JavaScript library. The purpose of jQuery is to make it much easier to use JavaScript on your site and it simplifies many tasks that require many lines of JavaScript code to accomplish, wraping them into _______ that you can call with a single line of code.\n",
    "\n",
    "**jQuery** also simplifies a lot of the complicated things from JavaScript, like AJAX calls and DOM manipulation."
   ]
  },
  {
   "cell_type": "markdown",
   "metadata": {},
   "source": [
    "### The implications of jQuery\n",
    "\n",
    "The jQuery library has the following features\n",
    "\n",
    "1. HTML/DOM manipulation\n",
    "2. CSS manipulation\n",
    "3. HTML event methods\n",
    "4. Effects and animations\n",
    "5. AJAX (Asynchronous Javascript and XML)\n",
    "6. Utilities\n",
    "\n",
    "- In addition, jQuery has plugins for almost any task out there.\n",
    "\n",
    "If you ever want to use jQuery, you can download it [here](http://jquery.com/download/) or just use a CDN (Content Delivery Network) from Google!"
   ]
  },
  {
   "cell_type": "code",
   "execution_count": null,
   "metadata": {
    "vscode": {
     "languageId": "html"
    }
   },
   "outputs": [],
   "source": [
    "// Downloaded jQuery\n",
    "<head>\n",
    "<script src=\"jquery-3.7.1.min.js\"></script>\n",
    "</head>"
   ]
  },
  {
   "cell_type": "code",
   "execution_count": null,
   "metadata": {
    "vscode": {
     "languageId": "html"
    }
   },
   "outputs": [],
   "source": [
    "// Google CDN which is the more common method of getting the library\n",
    "<head>\n",
    "<script src=\"https://ajax.googleapis.com/ajax/libs/jquery/3.7.1/jquery.min.js\"></script>\n",
    "</head>"
   ]
  },
  {
   "cell_type": "markdown",
   "metadata": {},
   "source": [
    "### jQuery syntax and how to use it\n",
    "\n",
    "With jQuery you select (query) HTML elements and perform \"_______\" on them.\n",
    "\n",
    "Basic syntax is: $(selector).action()\n",
    "\n",
    "- A $ symbol to define/access jQuery\n",
    "- A (selector) to \"query (or find)\" HTML elements\n",
    "- A jQuery action() to be performed on the element(s)\n",
    "\n",
    "Examples:\n",
    "\n",
    "- $(this).hide() - hides the current element\n",
    "\n",
    "- $(\"p\").hide() - hides all <p> elements\n",
    "\n",
    "- $(\".test\").hide() - hides all elements with class=\"test\"\n",
    "\n",
    "- $(\"#test\").hide() - hides the element with id=\"test\"\n",
    "\n",
    "In the following example, write in one of the comments where the selector is (popcorn hack ~ raise hand when found)"
   ]
  },
  {
   "cell_type": "code",
   "execution_count": null,
   "metadata": {
    "vscode": {
     "languageId": "javascript"
    }
   },
   "outputs": [],
   "source": [
    "$(document).ready(function(){     // \n",
    "    $(\"button\").click(function(){ //\n",
    "      $(\"p\").hide();              //\n",
    "    });                           //\n",
    "  });                             //"
   ]
  },
  {
   "cell_type": "markdown",
   "metadata": {},
   "source": [
    "The element Selector\n",
    "- $(\"p\")\n",
    "The #id Selector\n",
    "- $(\"#test\")\n",
    "The .class Selector\n",
    "- $(\".class\")\n",
    "\n",
    "The Document Ready Event\n",
    "\n",
    "All jQuery methods begin inside a document _____ event:"
   ]
  },
  {
   "cell_type": "code",
   "execution_count": null,
   "metadata": {
    "vscode": {
     "languageId": "javascript"
    }
   },
   "outputs": [],
   "source": [
    "$(document).ready(function(){\n",
    "\n",
    "    // jQuery methods go here...\n",
    "  \n",
    "  });"
   ]
  },
  {
   "cell_type": "markdown",
   "metadata": {},
   "source": [
    "This is to prevent any jQuery code from running before the document is finished loading (is ready).\n",
    "\n",
    "It is good practice to wait for the document to be fully loaded and ready before working with it. This also allows you to have your JavaScript code before the body of your document, in the head section.\n",
    "\n",
    "Reason:\n",
    "- Trying to hide an element that is not created yet\n",
    "- Trying to get the size of an image that is not loaded yet"
   ]
  },
  {
   "cell_type": "code",
   "execution_count": null,
   "metadata": {
    "vscode": {
     "languageId": "javascript"
    }
   },
   "outputs": [],
   "source": [
    "$(function(){\n",
    "    \n",
    "    // An even quicker way to do it\n",
    "    // jQuery methods go here...\n",
    "  \n",
    "  });"
   ]
  },
  {
   "cell_type": "markdown",
   "metadata": {},
   "source": [
    "### jQuery methods and event handling \n",
    "\n",
    "What are Events?\n",
    "- All the different visitors' actions that a web page can respond to are called events\n",
    "\n",
    "|Mouse Events|Keyboard Events|Form Events|Document/Window Events|\n",
    "|-|-|-|-|\n",
    "|click|keypress|submit|load|\n",
    "|dblclick|keydown|change|resize|\n",
    "|mouseenter|keyup|focus|scroll|\n",
    "|mouseleave||blur|unload|"
   ]
  },
  {
   "cell_type": "code",
   "execution_count": null,
   "metadata": {
    "vscode": {
     "languageId": "javascript"
    }
   },
   "outputs": [],
   "source": [
    "onclick=JavaScript\n",
    "// The infamous onclick event in html"
   ]
  },
  {
   "cell_type": "code",
   "execution_count": null,
   "metadata": {
    "vscode": {
     "languageId": "html"
    }
   },
   "outputs": [],
   "source": [
    "<html>\n",
    "<head>\n",
    "<script src=\"https://ajax.googleapis.com/ajax/libs/jquery/3.7.1/jquery.min.js\"></script>\n",
    "<script>\n",
    "$(document).ready(function(){\n",
    "  $(\"p\").click(function(){\n",
    "    $(this).hide();\n",
    "  });\n",
    "});\n",
    "</script>\n",
    "</head>\n",
    "<body>\n",
    "\n",
    "<p>If you click on me, I will disappear.</p>\n",
    "<p>Click me away!</p>\n",
    "<p>Click me too!</p>\n",
    "\n",
    "</body>\n",
    "</html>"
   ]
  },
  {
   "cell_type": "markdown",
   "metadata": {},
   "source": [
    "Look at it [here](https://soham360.github.io/refactored-engine/dissapear.html)"
   ]
  },
  {
   "cell_type": "markdown",
   "metadata": {},
   "source": [
    "### Making requests with AJAX\n",
    "\n",
    "**AJAX** stands for Asynchronous JavaScript and XML. It allows web pages to be updated asynchronously in a easier way and is promise based. A **Promise** in JavaScript represents the eventual completion (or failure) of an asynchronous request.\n"
   ]
  },
  {
   "cell_type": "markdown",
   "metadata": {},
   "source": [
    "### Why use jQuery AJAX over a normal async request or AJAX request?\n",
    "\n",
    "Against a normal async request AJAX has a lot of advantages:\n",
    "\n",
    "1. **Easier Error Handling**: Promises are much easier to deal with than callbacks. If an error occurs in a promise, it will be passed down to the next `catch()` clause.\n",
    "\n",
    "2. **Simpler API Chaining**: If you want to wait for one operation to finish before starting another one you can simply use `.then()`.\n",
    "\n",
    "#### Normal async request"
   ]
  },
  {
   "cell_type": "code",
   "execution_count": null,
   "metadata": {
    "vscode": {
     "languageId": "javascript"
    }
   },
   "outputs": [],
   "source": [
    "getUserLocation(function(error, location) {\n",
    "    if (error) {\n",
    "        console.error('Error:', error);\n",
    "    } else {\n",
    "        getForecast(location, function(error, forecast) {\n",
    "            if (error) {\n",
    "                console.error('Error:', error);\n",
    "            } else {\n",
    "                console.log('Forecast:', forecast);\n",
    "            }\n",
    "        });\n",
    "    }\n",
    "});"
   ]
  },
  {
   "cell_type": "markdown",
   "metadata": {},
   "source": [
    "#### Ajax requests without any library"
   ]
  },
  {
   "cell_type": "code",
   "execution_count": null,
   "metadata": {
    "vscode": {
     "languageId": "javascript"
    }
   },
   "outputs": [],
   "source": [
    "fetch('api/location')\n",
    ".then(response => response.json())\n",
    ".then(location => fetch('api/forecast/' + location))\n",
    ".then(response => response.json())\n",
    ".then(forecast => {\n",
    "    console.log('Forecast:', forecast);\n",
    "})\n",
    ".catch(error => {\n",
    "    console.error('Error:', error);\n",
    "});\n"
   ]
  },
  {
   "cell_type": "markdown",
   "metadata": {},
   "source": [
    "#### Ajax Requests with JQuery"
   ]
  },
  {
   "cell_type": "code",
   "execution_count": 8,
   "metadata": {
    "vscode": {
     "languageId": "javascript"
    }
   },
   "outputs": [
    {
     "data": {
      "application/javascript": "require.config({\n    paths: {\n        jquery: 'https://ajax.googleapis.com/ajax/libs/jquery/3.3.1/jquery.min'\n    }\n});\n\nrequire(['jquery'], function($) {\n    $.ajax({ url: 'api/location', method: 'GET', dataType: 'json' })\n    .then(function(location) {\n        return $.ajax({ url: 'api/forecast/' + location, method: 'GET', dataType: 'json' });\n    })\n    .then(function(forecast) {\n        console.log('Forecast:', forecast);\n    })\n    .catch(function(error) {\n        console.error('Error:', error);\n    });\n});\n\n",
      "text/plain": [
       "<IPython.core.display.Javascript object>"
      ]
     },
     "metadata": {},
     "output_type": "display_data"
    }
   ],
   "source": [
    "\n",
    "$.ajax({ url: 'api/location', method: 'GET', dataType: 'json' })\n",
    ".then(function(location) {\n",
    "    return $.ajax({ url: 'api/forecast/' + location, method: 'GET', dataType: 'json' });\n",
    "})\n",
    ".then(function(forecast) {\n",
    "    console.log('Forecast:', forecast);\n",
    "})\n",
    ".catch(function(error) {\n",
    "    console.error('Error:', error);\n",
    "});\n"
   ]
  },
  {
   "cell_type": "markdown",
   "metadata": {},
   "source": [
    "You can see using ajax is much easier to read than callback system. However when it comes to using jquery ajax vs javascript's version there are less differences. It is up to you which syntax you like more.\n",
    "\n",
    "Jquery ajax also builds on top of the old javascript version so it can support older browser versions."
   ]
  },
  {
   "cell_type": "markdown",
   "metadata": {},
   "source": [
    "## Jquery's use with PBL"
   ]
  },
  {
   "cell_type": "markdown",
   "metadata": {},
   "source": [
    "\n",
    "Jquery's most important use is making you site dynamic and update from user input. The most important part of this for our projects is **taking the data from the backend and building html from it**.\n",
    "\n",
    "> Posts AI generated"
   ]
  },
  {
   "cell_type": "code",
   "execution_count": 5,
   "metadata": {
    "vscode": {
     "languageId": "html"
    }
   },
   "outputs": [
    {
     "data": {
      "text/html": [
       "<head>\n",
       "    <script src=\"https://ajax.googleapis.com/ajax/libs/jquery/3.5.1/jquery.min.js\"></script>\n",
       "    <style>\n",
       "        .post {\n",
       "            border: 1px solid #ddd;\n",
       "            margin-bottom: 20px;\n",
       "            padding: 20px;\n",
       "            border-radius: 5px;\n",
       "        }\n",
       "        .like-count {\n",
       "            color: #007BFF;\n",
       "        }\n",
       "    </style>\n",
       "</head>\n",
       "<body>\n",
       "\n",
       "<div id=\"posts\"></div>\n",
       "\n",
       "<script>\n",
       "// Fake API function\n",
       "function getAPI() {\n",
       "    return [\n",
       "        {id: 1, content: 'Dogs are man\\'s best friend.', likes: 10},\n",
       "        {id: 2, content: 'Dogs have an exceptional sense of smell.', likes: 20},\n",
       "        {id: 3, content: 'There are hundreds of different dog breeds.', likes: 30}\n",
       "    ];\n",
       "}\n",
       "\n",
       "$(document).ready(function(){\n",
       "    var posts = getAPI();\n",
       "    $.each(posts, function(i, post) {\n",
       "        var postHtml = '<div class=\"post\"><h2>Post ' + post.id + '</h2><p>' + post.content + '</p><p class=\"like-count\">' + post.likes + ' likes</p></div>';\n",
       "        $('#posts').append(postHtml);\n",
       "    });\n",
       "});\n",
       "</script>\n",
       "\n",
       "</body>\n",
       "</html>\n"
      ],
      "text/plain": [
       "<IPython.core.display.HTML object>"
      ]
     },
     "metadata": {},
     "output_type": "display_data"
    }
   ],
   "source": [
    "%%html\n",
    "<head>\n",
    "    <script src=\"https://ajax.googleapis.com/ajax/libs/jquery/3.5.1/jquery.min.js\"></script>\n",
    "    <style>\n",
    "        .post {\n",
    "            border: 1px solid #ddd;\n",
    "            margin-bottom: 20px;\n",
    "            padding: 20px;\n",
    "            border-radius: 5px;\n",
    "        }\n",
    "        .like-count {\n",
    "            color: #007BFF;\n",
    "        }\n",
    "    </style>\n",
    "</head>\n",
    "<body>\n",
    "\n",
    "<div id=\"posts\"></div>\n",
    "\n",
    "<script>\n",
    "// Fake API function\n",
    "function getAPI() {\n",
    "    return [\n",
    "        {id: 1, content: 'Dogs are man\\'s best friend.', likes: 10},\n",
    "        {id: 2, content: 'Dogs have an exceptional sense of smell.', likes: 20},\n",
    "        {id: 3, content: 'There are hundreds of different dog breeds.', likes: 30}\n",
    "    ];\n",
    "}\n",
    "\n",
    "$(document).ready(function(){\n",
    "    var posts = getAPI();\n",
    "    $.each(posts, function(i, post) {\n",
    "        var postHtml = '<div class=\"post\"><h2>Post ' + post.id + '</h2><p>' + post.content + '</p><p class=\"like-count\">' + post.likes + ' likes</p></div>';\n",
    "        $('#posts').append(postHtml);\n",
    "    });\n",
    "});\n",
    "</script>\n",
    "\n",
    "</body>\n",
    "</html>"
   ]
  },
  {
   "cell_type": "markdown",
   "metadata": {},
   "source": [
    "### Popcorn Hack: Complete the Jquery and JavaScript code\n",
    "\n",
    "This represents a website for buying dogs. The API contains an id, name, price, and breed for each dog. Display them all as html using jquery."
   ]
  },
  {
   "cell_type": "code",
   "execution_count": 11,
   "metadata": {},
   "outputs": [
    {
     "data": {
      "text/html": [
       "<html>\n",
       "<head>\n",
       "    <script src=\"https://ajax.googleapis.com/ajax/libs/jquery/3.5.1/jquery.min.js\"></script>\n",
       "    <style>\n",
       "        .dog {\n",
       "            border: 1px solid #ddd;\n",
       "            margin-bottom: 20px;\n",
       "            padding: 20px;\n",
       "            border-radius: 5px;\n",
       "        }\n",
       "        .price {\n",
       "            color: #007BFF;\n",
       "        }\n",
       "    </style>\n",
       "</head>\n",
       "<body>\n",
       "\n",
       "<div id=\"dogs\"></div>\n",
       "\n",
       "<script>\n",
       "// Fake API function\n",
       "function getAPI() {\n",
       "    return [\n",
       "        {id: 1, name: 'Max', price: '$1000', breed: 'Golden Retriever'},\n",
       "        {id: 2, name: 'Bella', price: '$800', breed: 'Labrador Retriever'},\n",
       "        {id: 3, name: 'Charlie', price: '$1200', breed: 'German Shepherd'}\n",
       "    ];\n",
       "}\n",
       "\n",
       "$(document).ready(function(){\n",
       "    var dogs = getAPI();\n",
       "    //Write code here\n",
       "});\n",
       "</script>\n",
       "\n",
       "</body>\n",
       "</html>\n"
      ],
      "text/plain": [
       "<IPython.core.display.HTML object>"
      ]
     },
     "metadata": {},
     "output_type": "display_data"
    }
   ],
   "source": [
    "%%html\n",
    "<html>\n",
    "<head>\n",
    "    <script src=\"https://ajax.googleapis.com/ajax/libs/jquery/3.5.1/jquery.min.js\"></script>\n",
    "    <style>\n",
    "        .dog {\n",
    "            border: 1px solid #ddd;\n",
    "            margin-bottom: 20px;\n",
    "            padding: 20px;\n",
    "            border-radius: 5px;\n",
    "        }\n",
    "        .price {\n",
    "            color: #007BFF;\n",
    "        }\n",
    "    </style>\n",
    "</head>\n",
    "<body>\n",
    "\n",
    "<div id=\"dogs\"></div>\n",
    "\n",
    "<script>\n",
    "// Fake API function\n",
    "function getAPI() {\n",
    "    return [\n",
    "        {id: 1, name: 'Max', price: '$1000', breed: 'Golden Retriever'},\n",
    "        {id: 2, name: 'Bella', price: '$800', breed: 'Labrador Retriever'},\n",
    "        {id: 3, name: 'Charlie', price: '$1200', breed: 'German Shepherd'}\n",
    "    ];\n",
    "}\n",
    "\n",
    "$(document).ready(function(){\n",
    "    var dogs = getAPI();\n",
    "    //Write code here\n",
    "});\n",
    "</script>\n",
    "\n",
    "</body>\n",
    "</html>\n"
   ]
  },
  {
   "cell_type": "markdown",
   "metadata": {},
   "source": [
    "## Animations with Jquery "
   ]
  },
  {
   "cell_type": "markdown",
   "metadata": {},
   "source": [
    "You can also create animations in JQuery. "
   ]
  },
  {
   "cell_type": "markdown",
   "metadata": {},
   "source": [
    "- styles: Specifies the CSS properties to animate. \n",
    "- speed: Optional and specifies the speed of the animation, by default it is 400 milliseconds.\n",
    "- easing: Optional and Specifies the animation pattern. \n",
    "  - “swing” - moves slower at the beginning/end, but faster in the middle\n",
    "  - “linear” - moves in a constant speed\n",
    "- callback: Optional, a function to be executed after the animation completes.\n",
    "  -  By default it is “swing”.\n",
    "\n",
    "> Animations glitch out jupyter notebooks so this example can't be in runnable code.\n",
    "\n",
    "```\n",
    "<html>\n",
    "<head>\n",
    "<script src=\"https://ajax.googleapis.com/ajax/libs/jquery/3.5.1/jquery.min.js\"></script>\n",
    "<script>\n",
    "$(document).ready(function(){\n",
    "  // Reset CSS properties to their original values\n",
    "  $(\"div\").css({\n",
    "    left: '0px',\n",
    "    opacity: '1',\n",
    "    height: '100px',\n",
    "    width: '100%'\n",
    "  });\n",
    "\n",
    "  $(\"button\").click(function(){\n",
    "    $(\"div\").animate({\n",
    "      left: '250px',\n",
    "      opacity: '0.5',\n",
    "      height: '150px',\n",
    "      width: '100%'\n",
    "    });\n",
    "  });\n",
    "});\n",
    "</script>\n",
    "</head>\n",
    "<body>\n",
    "\n",
    "<button>Start</button>\n",
    "\n",
    "<div style=\"background:#98bf21;height:100px;width:100px;position:absolute;\"></div>\n",
    "\n",
    "</body>\n",
    "</html>\n",
    "```"
   ]
  },
  {
   "cell_type": "markdown",
   "metadata": {},
   "source": [
    "Look at the animation [here](https://soham360.github.io/refactored-engine/animation.html)"
   ]
  }
 ],
 "metadata": {
  "kernelspec": {
   "display_name": "Python 3",
   "language": "python",
   "name": "python3"
  },
  "language_info": {
   "codemirror_mode": {
    "name": "ipython",
    "version": 3
   },
   "file_extension": ".py",
   "mimetype": "text/x-python",
   "name": "python",
   "nbconvert_exporter": "python",
   "pygments_lexer": "ipython3",
   "version": "3.10.12"
  }
 },
 "nbformat": 4,
 "nbformat_minor": 2
}
