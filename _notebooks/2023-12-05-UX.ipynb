{
 "cells": [
  {
   "cell_type": "markdown",
   "metadata": {},
   "source": [
    "---\n",
    "comments: true\n",
    "layout: notebook\n",
    "title: User Experience (UX)\n",
    "type: hacks\n",
    "toc: true\n",
    "courses: { csse: {week: 0}, csp: {week: 0}, csa: {week: 0} }\n",
    "---"
   ]
  },
  {
   "cell_type": "markdown",
   "metadata": {},
   "source": [
    "# UX\n",
    "\n",
    "### What is UX?\n",
    "- UX is the shortform of _______________; Data collected from the user of a product to understand the _______ and _____________ of said product from a user's view and use the info to improve the product.\n",
    "\n",
    "- UX is a ________ in all industries since collecting UX and improving the product based on it increases the __________ of the product on the market, increasing profits of the company or collaboration."
   ]
  },
  {
   "cell_type": "markdown",
   "metadata": {},
   "source": [
    "### When is UX Used?\n",
    "- UX is used when a product, especially a new one, needs optimization or modification based on user prefrence. This helps with changing user perception of the product since the company producing it would have had no prior feedback and would have not known their user prefrences."
   ]
  },
  {
   "cell_type": "markdown",
   "metadata": {},
   "source": [
    "### How is UX gathered?\n",
    "- UX is mainly gathered through internet forms or feedback discussion boards. Advertisments and websites such as Google forms or official company forums are some common methods.\n",
    "- Some examples are the Minecraft Forums and the "
   ]
  }
 ],
 "metadata": {
  "language_info": {
   "name": "python"
  }
 },
 "nbformat": 4,
 "nbformat_minor": 2
}
