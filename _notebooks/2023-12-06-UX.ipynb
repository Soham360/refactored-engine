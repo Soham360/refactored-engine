{
 "cells": [
  {
   "cell_type": "markdown",
   "metadata": {},
   "source": [
    "---\n",
    "comments: true\n",
    "layout: notebook\n",
    "title: UX\n",
    "description: This lesson talks about the user experience and why it is useful to think about. \n",
    "toc: true\n",
    "courses: { csa: {week: 15} }\n",
    "author: Mati Danish\n",
    "---"
   ]
  },
  {
   "cell_type": "markdown",
   "metadata": {},
   "source": [
    "# UX\n",
    "\n",
    "### Intro to the lesson\n",
    "- Do you remember the first operating system you used?\n",
    "- What makes you remember that first interaction?\n",
    "- The first operating system that I used was Windows XP, and fun fact the XP stands for experience. This shows how important User Experience is.\n",
    "\n",
    "### What is UX?\n",
    "- UX is the shortform of _______________; a standard of understanding the ___________________ of a product and optimise it based on data recived from users.\n",
    "\n",
    "- UX is a ________ in all industries since collecting UX and improving the product based on it increases the __________ of the product on the market, increasing profits of the company or collaboration.\n",
    "\n",
    "![image](https://github.com/Soham360/refactored-engine/assets/111465192/5d3131ff-d717-4acd-a473-708a7936169a)\n",
    "\n",
    "\n",
    "### What is the difference between UX and UI?\n",
    "- The main difference between UX and UI is that UI focuses on how the website looks rather than how it works.\n",
    "- A website can have a great UI but a bad UX, but a website can't have a great UX but a bad UI\n",
    "    - If the website is bad to look at, the User Experience is going to be horrible.\n",
    "\n",
    "### When is UX Used?\n",
    "- UX is used when a product, especially a new one, needs optimization or modification based on user prefrence. This helps with changing user perception of the product since the company producing it would have had no prior feedback and would have not known their user prefrences.\n",
    "\n",
    "### How is UX data gathered?\n",
    "- UX data is mainly gathered through internet forms or feedback discussion boards. Advertisments and websites such as Google forms or official company forums are some common methods. This data is used to make small or big quality kf life changes that make it more convineient anfor the user.\n",
    "\n",
    "- An example of UX data collection is the Minecraft Forums:\n",
    "![image](https://github.com/Henerystone/ws2/assets/96998793/5cf2c8cf-ce18-46e7-a45a-3a9c9c6720cb)\n",
    "- An example of UX implementation is the Spotify Wrapped interface:\n",
    "![image](https://github.com/Henerystone/ws2/assets/96998793/484ba60b-a16b-471e-85f1-3041ad615d22)   \n",
    "- On one hand, the Minecraft Forums are a source of UX data and on the other hand, the Spotify Wrapped interface is an example of improving UX.\n",
    "\n",
    "### Why is UX important?\n",
    "- UX is vital for the quality of a product; if there is no quality control or optimisation of UX, demand for the product drops and it fades away. If the product keeps up with modern UX expectations, it grows in popularity, gains higher demand and profits.\n",
    "- An example is the contrast between old and new Mario games:\n",
    "![image](https://github.com/Henerystone/ws2/assets/96998793/340763a8-c3c8-4efb-9ff0-30a16c47ada8)\n",
    "\n",
    "- Incredibly low resolution, very lackluster in terms of background and very simple design on the UI and the foreground/level.\n",
    "\n",
    "![image](https://github.com/Henerystone/ws2/assets/96998793/f085b3d8-f56c-4b47-9bb3-6b2ad723c844)\n",
    "\n",
    "- Incredibly detailed, amazing resolution, interesting levels and larger UI/interfaces.\n",
    "\n",
    "- As time has gone by, the user demands for higher resolution, higher detail, better quality, more game depth has translated into games as they strive to improve their UX to keep their products on top of the list."
   ]
  }
 ],
 "metadata": {
  "language_info": {
   "name": "python"
  }
 },
 "nbformat": 4,
 "nbformat_minor": 2
}
