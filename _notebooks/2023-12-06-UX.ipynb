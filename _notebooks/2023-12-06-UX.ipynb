{
 "cells": [
  {
   "cell_type": "markdown",
   "metadata": {},
   "source": [
    "---\n",
    "comments: true\n",
    "layout: notebook\n",
    "title: UX\n",
    "description: This lesson talks about the user experience and why it is useful to think about. \n",
    "toc: true\n",
    "courses: { csa: {week: 15} }\n",
    "author: Mati Danish\n",
    "---"
   ]
  },
  {
   "cell_type": "markdown",
   "metadata": {},
   "source": [
    "# Intro to the lesson\n",
    "- do you remember the first operating system you used?\n",
    "- what makes you remember that first interaction?\n",
    "- the first operating system that I used was windows xp, and fun fact the xp stands for experience. justs to show how important the experience is for a user.\n",
    "\n",
    "# What is UX?\n",
    "- as we all know UX stands for user experience\n",
    "- UX focus on the user and their experience with the product\n",
    "- if a product is not user friendly, then the user will not use it, making your product useless and obsolete\n",
    "\n",
    "![image](https://github.com/Soham360/refactored-engine/assets/111465192/5d3131ff-d717-4acd-a473-708a7936169a)\n",
    "\n",
    "\n",
    "# what is the difference between UX and UI?\n",
    "- the main difference between UX and UI is that UI focuses on how the website looks rather than how it works.\n",
    "- a website can have a great UI but a bad UX, but a website can't have a great UX but a bad UI\n",
    "    - if the it bad to look at, the user experience is going to be horrible\n",
    "\n",
    "\n"
   ]
  }
 ],
 "metadata": {
  "language_info": {
   "name": "python"
  }
 },
 "nbformat": 4,
 "nbformat_minor": 2
}
